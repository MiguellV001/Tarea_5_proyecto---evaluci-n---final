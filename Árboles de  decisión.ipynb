{
 "cells": [
  {
   "cell_type": "markdown",
   "id": "3096bc79-ea8b-4ad8-8b70-33c366c7a5ff",
   "metadata": {},
   "source": [
    "## Miguel Ángel Villamil Huertas"
   ]
  },
  {
   "cell_type": "markdown",
   "id": "d82164a1-f12e-45b3-9277-a58e9468ba8a",
   "metadata": {},
   "source": [
    "## Tarea 5 Proyecto Análisis de Datos"
   ]
  },
  {
   "cell_type": "markdown",
   "id": "ba909f0a-7586-4ada-927f-05bdf49558dc",
   "metadata": {},
   "source": [
    "## Proyecto: Titanic Dataset\n",
    "## Pasos de Arbol decisión"
   ]
  },
  {
   "cell_type": "markdown",
   "id": "016be542-fb02-4e76-b8b1-efc1bd58c6c5",
   "metadata": {},
   "source": [
    "1. Realizar un análisis exploratorio de los datos para identificar relaciones entre variables, valores atípicos, tendencias, etc\n",
    "2. Preprocesar los datos limpiándolos, tratando valores faltantes y transformándolos según sea necesario\n",
    "3. Seleccionar las características más relevantes para entrenar el modelo utilizando selección de características\n",
    "4. Dividir el dataset en Train y Test para evaluar correctamente el modelo.\n",
    "5. Entrenar el modelo configurando los diferentes hiperparámetros.\n",
    "6. Evaluar el desempeño del modelo en el conjunto de Test con métricas como precisión, recall, F1-score, etc.\n",
    "7. Realizar las diferentes gráficas que permitan visualizar los resultados del modelo.\n",
    "8. Interpretar, analizar y documentar los resultados obtenidos"
   ]
  },
  {
   "cell_type": "markdown",
   "id": "e6697253-4070-4662-b759-8ffa3e5742cb",
   "metadata": {},
   "source": [
    "#### 1. Realizar un análisis exploratorio de los datos para identificar relaciones entre variables, valores atípicos, tendencias, etc"
   ]
  },
  {
   "cell_type": "code",
   "execution_count": 1,
   "id": "bb1bfe79-c1b1-476c-a81e-3251812e88f5",
   "metadata": {},
   "outputs": [],
   "source": [
    "#Cargar las liberias necesarias\n",
    "import pandas as pd\n",
    "import numpy as np\n",
    "import seaborn as sns\n",
    "import matplotlib.pyplot as plt"
   ]
  },
  {
   "cell_type": "code",
   "execution_count": 2,
   "id": "db5527cd-836e-41f2-8da4-b54fd29258a1",
   "metadata": {},
   "outputs": [],
   "source": [
    "# letura de datos en Python y lo cargamos en la  variables Datos\n",
    "data = pd.read_csv(\"Titanic-Dataset.csv\",index_col=0)"
   ]
  },
  {
   "cell_type": "code",
   "execution_count": 3,
   "id": "d43ac13c-747d-4e03-b9f9-e53564136e08",
   "metadata": {},
   "outputs": [
    {
     "data": {
      "text/html": [
       "<div>\n",
       "<style scoped>\n",
       "    .dataframe tbody tr th:only-of-type {\n",
       "        vertical-align: middle;\n",
       "    }\n",
       "\n",
       "    .dataframe tbody tr th {\n",
       "        vertical-align: top;\n",
       "    }\n",
       "\n",
       "    .dataframe thead th {\n",
       "        text-align: right;\n",
       "    }\n",
       "</style>\n",
       "<table border=\"1\" class=\"dataframe\">\n",
       "  <thead>\n",
       "    <tr style=\"text-align: right;\">\n",
       "      <th></th>\n",
       "      <th>Survived</th>\n",
       "      <th>Pclass</th>\n",
       "      <th>Name</th>\n",
       "      <th>Sex</th>\n",
       "      <th>Age</th>\n",
       "      <th>SibSp</th>\n",
       "      <th>Parch</th>\n",
       "      <th>Ticket</th>\n",
       "      <th>Fare</th>\n",
       "      <th>Cabin</th>\n",
       "      <th>Embarked</th>\n",
       "    </tr>\n",
       "    <tr>\n",
       "      <th>PassengerId</th>\n",
       "      <th></th>\n",
       "      <th></th>\n",
       "      <th></th>\n",
       "      <th></th>\n",
       "      <th></th>\n",
       "      <th></th>\n",
       "      <th></th>\n",
       "      <th></th>\n",
       "      <th></th>\n",
       "      <th></th>\n",
       "      <th></th>\n",
       "    </tr>\n",
       "  </thead>\n",
       "  <tbody>\n",
       "    <tr>\n",
       "      <th>1</th>\n",
       "      <td>0</td>\n",
       "      <td>3</td>\n",
       "      <td>Braund, Mr. Owen Harris</td>\n",
       "      <td>male</td>\n",
       "      <td>22.0</td>\n",
       "      <td>1</td>\n",
       "      <td>0</td>\n",
       "      <td>A/5 21171</td>\n",
       "      <td>7.2500</td>\n",
       "      <td>NaN</td>\n",
       "      <td>S</td>\n",
       "    </tr>\n",
       "    <tr>\n",
       "      <th>2</th>\n",
       "      <td>1</td>\n",
       "      <td>1</td>\n",
       "      <td>Cumings, Mrs. John Bradley (Florence Briggs Th...</td>\n",
       "      <td>female</td>\n",
       "      <td>38.0</td>\n",
       "      <td>1</td>\n",
       "      <td>0</td>\n",
       "      <td>PC 17599</td>\n",
       "      <td>71.2833</td>\n",
       "      <td>C85</td>\n",
       "      <td>C</td>\n",
       "    </tr>\n",
       "    <tr>\n",
       "      <th>3</th>\n",
       "      <td>1</td>\n",
       "      <td>3</td>\n",
       "      <td>Heikkinen, Miss. Laina</td>\n",
       "      <td>female</td>\n",
       "      <td>26.0</td>\n",
       "      <td>0</td>\n",
       "      <td>0</td>\n",
       "      <td>STON/O2. 3101282</td>\n",
       "      <td>7.9250</td>\n",
       "      <td>NaN</td>\n",
       "      <td>S</td>\n",
       "    </tr>\n",
       "    <tr>\n",
       "      <th>4</th>\n",
       "      <td>1</td>\n",
       "      <td>1</td>\n",
       "      <td>Futrelle, Mrs. Jacques Heath (Lily May Peel)</td>\n",
       "      <td>female</td>\n",
       "      <td>35.0</td>\n",
       "      <td>1</td>\n",
       "      <td>0</td>\n",
       "      <td>113803</td>\n",
       "      <td>53.1000</td>\n",
       "      <td>C123</td>\n",
       "      <td>S</td>\n",
       "    </tr>\n",
       "    <tr>\n",
       "      <th>5</th>\n",
       "      <td>0</td>\n",
       "      <td>3</td>\n",
       "      <td>Allen, Mr. William Henry</td>\n",
       "      <td>male</td>\n",
       "      <td>35.0</td>\n",
       "      <td>0</td>\n",
       "      <td>0</td>\n",
       "      <td>373450</td>\n",
       "      <td>8.0500</td>\n",
       "      <td>NaN</td>\n",
       "      <td>S</td>\n",
       "    </tr>\n",
       "  </tbody>\n",
       "</table>\n",
       "</div>"
      ],
      "text/plain": [
       "             Survived  Pclass  \\\n",
       "PassengerId                     \n",
       "1                   0       3   \n",
       "2                   1       1   \n",
       "3                   1       3   \n",
       "4                   1       1   \n",
       "5                   0       3   \n",
       "\n",
       "                                                          Name     Sex   Age  \\\n",
       "PassengerId                                                                    \n",
       "1                                      Braund, Mr. Owen Harris    male  22.0   \n",
       "2            Cumings, Mrs. John Bradley (Florence Briggs Th...  female  38.0   \n",
       "3                                       Heikkinen, Miss. Laina  female  26.0   \n",
       "4                 Futrelle, Mrs. Jacques Heath (Lily May Peel)  female  35.0   \n",
       "5                                     Allen, Mr. William Henry    male  35.0   \n",
       "\n",
       "             SibSp  Parch            Ticket     Fare Cabin Embarked  \n",
       "PassengerId                                                          \n",
       "1                1      0         A/5 21171   7.2500   NaN        S  \n",
       "2                1      0          PC 17599  71.2833   C85        C  \n",
       "3                0      0  STON/O2. 3101282   7.9250   NaN        S  \n",
       "4                1      0            113803  53.1000  C123        S  \n",
       "5                0      0            373450   8.0500   NaN        S  "
      ]
     },
     "execution_count": 3,
     "metadata": {},
     "output_type": "execute_result"
    }
   ],
   "source": [
    "data.head()"
   ]
  },
  {
   "cell_type": "code",
   "execution_count": 4,
   "id": "1363ced3-c7e3-41fa-9500-d3f8feff41d1",
   "metadata": {},
   "outputs": [
    {
     "data": {
      "text/plain": [
       "(891, 11)"
      ]
     },
     "execution_count": 4,
     "metadata": {},
     "output_type": "execute_result"
    }
   ],
   "source": [
    "data.shape"
   ]
  },
  {
   "cell_type": "code",
   "execution_count": 5,
   "id": "e16a6a24-5354-46df-ab75-de172c9c86ac",
   "metadata": {},
   "outputs": [
    {
     "name": "stdout",
     "output_type": "stream",
     "text": [
      "Index(['Survived', 'Pclass', 'Name', 'Sex', 'Age', 'SibSp', 'Parch', 'Ticket',\n",
      "       'Fare', 'Cabin', 'Embarked'],\n",
      "      dtype='object')\n"
     ]
    }
   ],
   "source": [
    "# Confirmacion de columnas\n",
    "print(data.columns)"
   ]
  },
  {
   "cell_type": "code",
   "execution_count": 6,
   "id": "2d1660bf-a989-4b39-9340-06f7b8f62e14",
   "metadata": {},
   "outputs": [
    {
     "data": {
      "text/html": [
       "<div>\n",
       "<style scoped>\n",
       "    .dataframe tbody tr th:only-of-type {\n",
       "        vertical-align: middle;\n",
       "    }\n",
       "\n",
       "    .dataframe tbody tr th {\n",
       "        vertical-align: top;\n",
       "    }\n",
       "\n",
       "    .dataframe thead th {\n",
       "        text-align: right;\n",
       "    }\n",
       "</style>\n",
       "<table border=\"1\" class=\"dataframe\">\n",
       "  <thead>\n",
       "    <tr style=\"text-align: right;\">\n",
       "      <th></th>\n",
       "      <th>Survived</th>\n",
       "      <th>Pclass</th>\n",
       "      <th>Age</th>\n",
       "      <th>SibSp</th>\n",
       "      <th>Parch</th>\n",
       "      <th>Fare</th>\n",
       "    </tr>\n",
       "  </thead>\n",
       "  <tbody>\n",
       "    <tr>\n",
       "      <th>count</th>\n",
       "      <td>891.000000</td>\n",
       "      <td>891.000000</td>\n",
       "      <td>714.000000</td>\n",
       "      <td>891.000000</td>\n",
       "      <td>891.000000</td>\n",
       "      <td>891.000000</td>\n",
       "    </tr>\n",
       "    <tr>\n",
       "      <th>mean</th>\n",
       "      <td>0.383838</td>\n",
       "      <td>2.308642</td>\n",
       "      <td>29.699118</td>\n",
       "      <td>0.523008</td>\n",
       "      <td>0.381594</td>\n",
       "      <td>32.204208</td>\n",
       "    </tr>\n",
       "    <tr>\n",
       "      <th>std</th>\n",
       "      <td>0.486592</td>\n",
       "      <td>0.836071</td>\n",
       "      <td>14.526497</td>\n",
       "      <td>1.102743</td>\n",
       "      <td>0.806057</td>\n",
       "      <td>49.693429</td>\n",
       "    </tr>\n",
       "    <tr>\n",
       "      <th>min</th>\n",
       "      <td>0.000000</td>\n",
       "      <td>1.000000</td>\n",
       "      <td>0.420000</td>\n",
       "      <td>0.000000</td>\n",
       "      <td>0.000000</td>\n",
       "      <td>0.000000</td>\n",
       "    </tr>\n",
       "    <tr>\n",
       "      <th>25%</th>\n",
       "      <td>0.000000</td>\n",
       "      <td>2.000000</td>\n",
       "      <td>20.125000</td>\n",
       "      <td>0.000000</td>\n",
       "      <td>0.000000</td>\n",
       "      <td>7.910400</td>\n",
       "    </tr>\n",
       "    <tr>\n",
       "      <th>50%</th>\n",
       "      <td>0.000000</td>\n",
       "      <td>3.000000</td>\n",
       "      <td>28.000000</td>\n",
       "      <td>0.000000</td>\n",
       "      <td>0.000000</td>\n",
       "      <td>14.454200</td>\n",
       "    </tr>\n",
       "    <tr>\n",
       "      <th>75%</th>\n",
       "      <td>1.000000</td>\n",
       "      <td>3.000000</td>\n",
       "      <td>38.000000</td>\n",
       "      <td>1.000000</td>\n",
       "      <td>0.000000</td>\n",
       "      <td>31.000000</td>\n",
       "    </tr>\n",
       "    <tr>\n",
       "      <th>max</th>\n",
       "      <td>1.000000</td>\n",
       "      <td>3.000000</td>\n",
       "      <td>80.000000</td>\n",
       "      <td>8.000000</td>\n",
       "      <td>6.000000</td>\n",
       "      <td>512.329200</td>\n",
       "    </tr>\n",
       "  </tbody>\n",
       "</table>\n",
       "</div>"
      ],
      "text/plain": [
       "         Survived      Pclass         Age       SibSp       Parch        Fare\n",
       "count  891.000000  891.000000  714.000000  891.000000  891.000000  891.000000\n",
       "mean     0.383838    2.308642   29.699118    0.523008    0.381594   32.204208\n",
       "std      0.486592    0.836071   14.526497    1.102743    0.806057   49.693429\n",
       "min      0.000000    1.000000    0.420000    0.000000    0.000000    0.000000\n",
       "25%      0.000000    2.000000   20.125000    0.000000    0.000000    7.910400\n",
       "50%      0.000000    3.000000   28.000000    0.000000    0.000000   14.454200\n",
       "75%      1.000000    3.000000   38.000000    1.000000    0.000000   31.000000\n",
       "max      1.000000    3.000000   80.000000    8.000000    6.000000  512.329200"
      ]
     },
     "execution_count": 6,
     "metadata": {},
     "output_type": "execute_result"
    }
   ],
   "source": [
    "# Descripción de los datos\n",
    "data.describe()"
   ]
  },
  {
   "cell_type": "code",
   "execution_count": 13,
   "id": "0c101ae1-04d7-45a2-a250-d1a0ab55db21",
   "metadata": {},
   "outputs": [
    {
     "data": {
      "text/plain": [
       "Survived      0\n",
       "Pclass        0\n",
       "Name          0\n",
       "Sex           0\n",
       "Age         177\n",
       "SibSp         0\n",
       "Parch         0\n",
       "Ticket        0\n",
       "Fare          0\n",
       "Cabin       687\n",
       "Embarked      2\n",
       "dtype: int64"
      ]
     },
     "execution_count": 13,
     "metadata": {},
     "output_type": "execute_result"
    }
   ],
   "source": [
    "data.isna().sum()"
   ]
  },
  {
   "cell_type": "code",
   "execution_count": 15,
   "id": "12ef5c7a-d000-4803-aba3-8617aa79c566",
   "metadata": {},
   "outputs": [
    {
     "data": {
      "text/plain": [
       "(array([732., 106.,  31.,   2.,  11.,   6.,   0.,   0.,   0.,   3.]),\n",
       " array([  0.     ,  51.23292, 102.46584, 153.69876, 204.93168, 256.1646 ,\n",
       "        307.39752, 358.63044, 409.86336, 461.09628, 512.3292 ]),\n",
       " <BarContainer object of 10 artists>)"
      ]
     },
     "execution_count": 15,
     "metadata": {},
     "output_type": "execute_result"
    },
    {
     "data": {
      "image/png": "[encoded data removed]",
      "text/plain": [
       "<Figure size 640x480 with 1 Axes>"
      ]
     },
     "metadata": {},
     "output_type": "display_data"
    }
   ],
   "source": [
    "plt.hist(data.Fare)"
   ]
  },
  {
   "cell_type": "code",
   "execution_count": 17,
   "id": "ac518001-f29f-4ed0-9e47-f13e2a17b1eb",
   "metadata": {},
   "outputs": [
    {
     "data": {
      "text/plain": [
       "<Axes: xlabel='SibSp', ylabel='Parch'>"
      ]
     },
     "execution_count": 17,
     "metadata": {},
     "output_type": "execute_result"
    },
    {
     "data": {
      "image/png": "[encoded data removed]",
      "text/plain": [
       "<Figure size 640x480 with 1 Axes>"
      ]
     },
     "metadata": {},
     "output_type": "display_data"
    }
   ],
   "source": [
    "sns.scatterplot(x = \"SibSp\", y = \"Parch\", hue = \"Fare\", data = data)"
   ]
  },
  {
   "cell_type": "code",
   "execution_count": 19,
   "id": "ebd1dd1e-03a0-4df8-83e6-5c4e9780af6d",
   "metadata": {},
   "outputs": [
    {
     "data": {
      "image/png": "[encoded data removed]",
      "text/plain": [
       "<Figure size 1400x700 with 1 Axes>"
      ]
     },
     "metadata": {},
     "output_type": "display_data"
    }
   ],
   "source": [
    "plt.figure(figsize=(14, 7))\n",
    "sns.boxplot(data=data[['Parch', 'SibSp', 'Parch', 'SibSp']])\n",
    "plt.xticks(rotation=45)\n",
    "plt.title('Boxplot de Parch y SibSp')\n",
    "plt.ylabel('Valores')\n",
    "plt.show()"
   ]
  },
  {
   "cell_type": "code",
   "execution_count": 21,
   "id": "905b747f-042a-4186-bacf-65552aae1f6a",
   "metadata": {},
   "outputs": [
    {
     "name": "stdout",
     "output_type": "stream",
     "text": [
      "Total registros dataset: 891\n",
      "Total datos atipicos para la centidad Parch 796\n",
      "Total datos atipicos para el Age 710\n",
      "\n"
     ]
    }
   ],
   "source": [
    "max_Parch = 10\n",
    "min_Parch = 2\n",
    "total_Parch = ((data['Parch'] <min_Parch) | (data['Parch'] > max_Parch)).sum()\n",
    "\n",
    "max_Age = 20\n",
    "min_Age = 8\n",
    "total_Age = ((data['Age'] < min_Age) | (data['Age'] > min_Age)).sum()\n",
    "\n",
    "print(\"Total registros dataset: {}\".format(len(data)))\n",
    "print(\"Total datos atipicos para la centidad Parch {}\".format(total_Parch))\n",
    "print(\"Total datos atipicos para el Age {}\".format(total_Age))\n",
    "print(\"\")             "
   ]
  },
  {
   "cell_type": "code",
   "execution_count": 23,
   "id": "89de8c0a-62c3-46ab-8b4b-da2001dc0c7d",
   "metadata": {},
   "outputs": [
    {
     "name": "stdout",
     "output_type": "stream",
     "text": [
      "<class 'pandas.core.frame.DataFrame'>\n",
      "Index: 891 entries, 1 to 891\n",
      "Data columns (total 11 columns):\n",
      " #   Column    Non-Null Count  Dtype  \n",
      "---  ------    --------------  -----  \n",
      " 0   Survived  891 non-null    int64  \n",
      " 1   Pclass    891 non-null    int64  \n",
      " 2   Name      891 non-null    object \n",
      " 3   Sex       891 non-null    object \n",
      " 4   Age       714 non-null    float64\n",
      " 5   SibSp     891 non-null    int64  \n",
      " 6   Parch     891 non-null    int64  \n",
      " 7   Ticket    891 non-null    object \n",
      " 8   Fare      891 non-null    float64\n",
      " 9   Cabin     204 non-null    object \n",
      " 10  Embarked  889 non-null    object \n",
      "dtypes: float64(2), int64(4), object(5)\n",
      "memory usage: 83.5+ KB\n"
     ]
    }
   ],
   "source": [
    "data.info()"
   ]
  },
  {
   "cell_type": "markdown",
   "id": "ec276b88-794c-4342-92fa-40d84132c027",
   "metadata": {},
   "source": [
    "#### 2. Preprocesar los datos limpiándolos, tratando valores faltantes y transformándolos según sea necesario."
   ]
  },
  {
   "cell_type": "code",
   "execution_count": 26,
   "id": "d017e4da-bfd5-4621-8cd4-a974694bef42",
   "metadata": {},
   "outputs": [
    {
     "name": "stdout",
     "output_type": "stream",
     "text": [
      "Survived      0\n",
      "Pclass        0\n",
      "Name          0\n",
      "Sex           0\n",
      "Age         177\n",
      "SibSp         0\n",
      "Parch         0\n",
      "Ticket        0\n",
      "Fare          0\n",
      "Cabin       687\n",
      "Embarked      2\n",
      "dtype: int64\n"
     ]
    },
    {
     "ename": "TypeError",
     "evalue": "unsupported operand type(s) for +: 'int' and 'str'",
     "output_type": "error",
     "traceback": [
      "\u001b[1;31m---------------------------------------------------------------------------\u001b[0m",
      "\u001b[1;31mTypeError\u001b[0m                                 Traceback (most recent call last)",
      "Cell \u001b[1;32mIn[26], line 6\u001b[0m\n\u001b[0;32m      2\u001b[0m \u001b[38;5;28mprint\u001b[39m(data\u001b[38;5;241m.\u001b[39misnull()\u001b[38;5;241m.\u001b[39msum())\n\u001b[0;32m      4\u001b[0m \u001b[38;5;66;03m#Eliminar filas con vvallores faltantes\u001b[39;00m\n\u001b[1;32m----> 6\u001b[0m data\u001b[38;5;241m.\u001b[39mfillna(data\u001b[38;5;241m.\u001b[39mmean(), inplace\u001b[38;5;241m=\u001b[39m\u001b[38;5;28;01mTrue\u001b[39;00m)\n",
      "File \u001b[1;32mC:\\ProgramData\\anaconda3\\Lib\\site-packages\\pandas\\core\\frame.py:11693\u001b[0m, in \u001b[0;36mDataFrame.mean\u001b[1;34m(self, axis, skipna, numeric_only, **kwargs)\u001b[0m\n\u001b[0;32m  11685\u001b[0m \u001b[38;5;129m@doc\u001b[39m(make_doc(\u001b[38;5;124m\"\u001b[39m\u001b[38;5;124mmean\u001b[39m\u001b[38;5;124m\"\u001b[39m, ndim\u001b[38;5;241m=\u001b[39m\u001b[38;5;241m2\u001b[39m))\n\u001b[0;32m  11686\u001b[0m \u001b[38;5;28;01mdef\u001b[39;00m \u001b[38;5;21mmean\u001b[39m(\n\u001b[0;32m  11687\u001b[0m     \u001b[38;5;28mself\u001b[39m,\n\u001b[1;32m   (...)\u001b[0m\n\u001b[0;32m  11691\u001b[0m     \u001b[38;5;241m*\u001b[39m\u001b[38;5;241m*\u001b[39mkwargs,\n\u001b[0;32m  11692\u001b[0m ):\n\u001b[1;32m> 11693\u001b[0m     result \u001b[38;5;241m=\u001b[39m \u001b[38;5;28msuper\u001b[39m()\u001b[38;5;241m.\u001b[39mmean(axis, skipna, numeric_only, \u001b[38;5;241m*\u001b[39m\u001b[38;5;241m*\u001b[39mkwargs)\n\u001b[0;32m  11694\u001b[0m     \u001b[38;5;28;01mif\u001b[39;00m \u001b[38;5;28misinstance\u001b[39m(result, Series):\n\u001b[0;32m  11695\u001b[0m         result \u001b[38;5;241m=\u001b[39m result\u001b[38;5;241m.\u001b[39m__finalize__(\u001b[38;5;28mself\u001b[39m, method\u001b[38;5;241m=\u001b[39m\u001b[38;5;124m\"\u001b[39m\u001b[38;5;124mmean\u001b[39m\u001b[38;5;124m\"\u001b[39m)\n",
      "File \u001b[1;32mC:\\ProgramData\\anaconda3\\Lib\\site-packages\\pandas\\core\\generic.py:12420\u001b[0m, in \u001b[0;36mNDFrame.mean\u001b[1;34m(self, axis, skipna, numeric_only, **kwargs)\u001b[0m\n\u001b[0;32m  12413\u001b[0m \u001b[38;5;28;01mdef\u001b[39;00m \u001b[38;5;21mmean\u001b[39m(\n\u001b[0;32m  12414\u001b[0m     \u001b[38;5;28mself\u001b[39m,\n\u001b[0;32m  12415\u001b[0m     axis: Axis \u001b[38;5;241m|\u001b[39m \u001b[38;5;28;01mNone\u001b[39;00m \u001b[38;5;241m=\u001b[39m \u001b[38;5;241m0\u001b[39m,\n\u001b[1;32m   (...)\u001b[0m\n\u001b[0;32m  12418\u001b[0m     \u001b[38;5;241m*\u001b[39m\u001b[38;5;241m*\u001b[39mkwargs,\n\u001b[0;32m  12419\u001b[0m ) \u001b[38;5;241m-\u001b[39m\u001b[38;5;241m>\u001b[39m Series \u001b[38;5;241m|\u001b[39m \u001b[38;5;28mfloat\u001b[39m:\n\u001b[1;32m> 12420\u001b[0m     \u001b[38;5;28;01mreturn\u001b[39;00m \u001b[38;5;28mself\u001b[39m\u001b[38;5;241m.\u001b[39m_stat_function(\n\u001b[0;32m  12421\u001b[0m         \u001b[38;5;124m\"\u001b[39m\u001b[38;5;124mmean\u001b[39m\u001b[38;5;124m\"\u001b[39m, nanops\u001b[38;5;241m.\u001b[39mnanmean, axis, skipna, numeric_only, \u001b[38;5;241m*\u001b[39m\u001b[38;5;241m*\u001b[39mkwargs\n\u001b[0;32m  12422\u001b[0m     )\n",
      "File \u001b[1;32mC:\\ProgramData\\anaconda3\\Lib\\site-packages\\pandas\\core\\generic.py:12377\u001b[0m, in \u001b[0;36mNDFrame._stat_function\u001b[1;34m(self, name, func, axis, skipna, numeric_only, **kwargs)\u001b[0m\n\u001b[0;32m  12373\u001b[0m nv\u001b[38;5;241m.\u001b[39mvalidate_func(name, (), kwargs)\n\u001b[0;32m  12375\u001b[0m validate_bool_kwarg(skipna, \u001b[38;5;124m\"\u001b[39m\u001b[38;5;124mskipna\u001b[39m\u001b[38;5;124m\"\u001b[39m, none_allowed\u001b[38;5;241m=\u001b[39m\u001b[38;5;28;01mFalse\u001b[39;00m)\n\u001b[1;32m> 12377\u001b[0m \u001b[38;5;28;01mreturn\u001b[39;00m \u001b[38;5;28mself\u001b[39m\u001b[38;5;241m.\u001b[39m_reduce(\n\u001b[0;32m  12378\u001b[0m     func, name\u001b[38;5;241m=\u001b[39mname, axis\u001b[38;5;241m=\u001b[39maxis, skipna\u001b[38;5;241m=\u001b[39mskipna, numeric_only\u001b[38;5;241m=\u001b[39mnumeric_only\n\u001b[0;32m  12379\u001b[0m )\n",
      "File \u001b[1;32mC:\\ProgramData\\anaconda3\\Lib\\site-packages\\pandas\\core\\frame.py:11562\u001b[0m, in \u001b[0;36mDataFrame._reduce\u001b[1;34m(self, op, name, axis, skipna, numeric_only, filter_type, **kwds)\u001b[0m\n\u001b[0;32m  11558\u001b[0m     df \u001b[38;5;241m=\u001b[39m df\u001b[38;5;241m.\u001b[39mT\n\u001b[0;32m  11560\u001b[0m \u001b[38;5;66;03m# After possibly _get_data and transposing, we are now in the\u001b[39;00m\n\u001b[0;32m  11561\u001b[0m \u001b[38;5;66;03m#  simple case where we can use BlockManager.reduce\u001b[39;00m\n\u001b[1;32m> 11562\u001b[0m res \u001b[38;5;241m=\u001b[39m df\u001b[38;5;241m.\u001b[39m_mgr\u001b[38;5;241m.\u001b[39mreduce(blk_func)\n\u001b[0;32m  11563\u001b[0m out \u001b[38;5;241m=\u001b[39m df\u001b[38;5;241m.\u001b[39m_constructor_from_mgr(res, axes\u001b[38;5;241m=\u001b[39mres\u001b[38;5;241m.\u001b[39maxes)\u001b[38;5;241m.\u001b[39miloc[\u001b[38;5;241m0\u001b[39m]\n\u001b[0;32m  11564\u001b[0m \u001b[38;5;28;01mif\u001b[39;00m out_dtype \u001b[38;5;129;01mis\u001b[39;00m \u001b[38;5;129;01mnot\u001b[39;00m \u001b[38;5;28;01mNone\u001b[39;00m \u001b[38;5;129;01mand\u001b[39;00m out\u001b[38;5;241m.\u001b[39mdtype \u001b[38;5;241m!=\u001b[39m \u001b[38;5;124m\"\u001b[39m\u001b[38;5;124mboolean\u001b[39m\u001b[38;5;124m\"\u001b[39m:\n",
      "File \u001b[1;32mC:\\ProgramData\\anaconda3\\Lib\\site-packages\\pandas\\core\\internals\\managers.py:1500\u001b[0m, in \u001b[0;36mBlockManager.reduce\u001b[1;34m(self, func)\u001b[0m\n\u001b[0;32m   1498\u001b[0m res_blocks: \u001b[38;5;28mlist\u001b[39m[Block] \u001b[38;5;241m=\u001b[39m []\n\u001b[0;32m   1499\u001b[0m \u001b[38;5;28;01mfor\u001b[39;00m blk \u001b[38;5;129;01min\u001b[39;00m \u001b[38;5;28mself\u001b[39m\u001b[38;5;241m.\u001b[39mblocks:\n\u001b[1;32m-> 1500\u001b[0m     nbs \u001b[38;5;241m=\u001b[39m blk\u001b[38;5;241m.\u001b[39mreduce(func)\n\u001b[0;32m   1501\u001b[0m     res_blocks\u001b[38;5;241m.\u001b[39mextend(nbs)\n\u001b[0;32m   1503\u001b[0m index \u001b[38;5;241m=\u001b[39m Index([\u001b[38;5;28;01mNone\u001b[39;00m])  \u001b[38;5;66;03m# placeholder\u001b[39;00m\n",
      "File \u001b[1;32mC:\\ProgramData\\anaconda3\\Lib\\site-packages\\pandas\\core\\internals\\blocks.py:404\u001b[0m, in \u001b[0;36mBlock.reduce\u001b[1;34m(self, func)\u001b[0m\n\u001b[0;32m    398\u001b[0m \u001b[38;5;129m@final\u001b[39m\n\u001b[0;32m    399\u001b[0m \u001b[38;5;28;01mdef\u001b[39;00m \u001b[38;5;21mreduce\u001b[39m(\u001b[38;5;28mself\u001b[39m, func) \u001b[38;5;241m-\u001b[39m\u001b[38;5;241m>\u001b[39m \u001b[38;5;28mlist\u001b[39m[Block]:\n\u001b[0;32m    400\u001b[0m     \u001b[38;5;66;03m# We will apply the function and reshape the result into a single-row\u001b[39;00m\n\u001b[0;32m    401\u001b[0m     \u001b[38;5;66;03m#  Block with the same mgr_locs; squeezing will be done at a higher level\u001b[39;00m\n\u001b[0;32m    402\u001b[0m     \u001b[38;5;28;01massert\u001b[39;00m \u001b[38;5;28mself\u001b[39m\u001b[38;5;241m.\u001b[39mndim \u001b[38;5;241m==\u001b[39m \u001b[38;5;241m2\u001b[39m\n\u001b[1;32m--> 404\u001b[0m     result \u001b[38;5;241m=\u001b[39m func(\u001b[38;5;28mself\u001b[39m\u001b[38;5;241m.\u001b[39mvalues)\n\u001b[0;32m    406\u001b[0m     \u001b[38;5;28;01mif\u001b[39;00m \u001b[38;5;28mself\u001b[39m\u001b[38;5;241m.\u001b[39mvalues\u001b[38;5;241m.\u001b[39mndim \u001b[38;5;241m==\u001b[39m \u001b[38;5;241m1\u001b[39m:\n\u001b[0;32m    407\u001b[0m         res_values \u001b[38;5;241m=\u001b[39m result\n",
      "File \u001b[1;32mC:\\ProgramData\\anaconda3\\Lib\\site-packages\\pandas\\core\\frame.py:11481\u001b[0m, in \u001b[0;36mDataFrame._reduce.<locals>.blk_func\u001b[1;34m(values, axis)\u001b[0m\n\u001b[0;32m  11479\u001b[0m         \u001b[38;5;28;01mreturn\u001b[39;00m np\u001b[38;5;241m.\u001b[39marray([result])\n\u001b[0;32m  11480\u001b[0m \u001b[38;5;28;01melse\u001b[39;00m:\n\u001b[1;32m> 11481\u001b[0m     \u001b[38;5;28;01mreturn\u001b[39;00m op(values, axis\u001b[38;5;241m=\u001b[39maxis, skipna\u001b[38;5;241m=\u001b[39mskipna, \u001b[38;5;241m*\u001b[39m\u001b[38;5;241m*\u001b[39mkwds)\n",
      "File \u001b[1;32mC:\\ProgramData\\anaconda3\\Lib\\site-packages\\pandas\\core\\nanops.py:147\u001b[0m, in \u001b[0;36mbottleneck_switch.__call__.<locals>.f\u001b[1;34m(values, axis, skipna, **kwds)\u001b[0m\n\u001b[0;32m    145\u001b[0m         result \u001b[38;5;241m=\u001b[39m alt(values, axis\u001b[38;5;241m=\u001b[39maxis, skipna\u001b[38;5;241m=\u001b[39mskipna, \u001b[38;5;241m*\u001b[39m\u001b[38;5;241m*\u001b[39mkwds)\n\u001b[0;32m    146\u001b[0m \u001b[38;5;28;01melse\u001b[39;00m:\n\u001b[1;32m--> 147\u001b[0m     result \u001b[38;5;241m=\u001b[39m alt(values, axis\u001b[38;5;241m=\u001b[39maxis, skipna\u001b[38;5;241m=\u001b[39mskipna, \u001b[38;5;241m*\u001b[39m\u001b[38;5;241m*\u001b[39mkwds)\n\u001b[0;32m    149\u001b[0m \u001b[38;5;28;01mreturn\u001b[39;00m result\n",
      "File \u001b[1;32mC:\\ProgramData\\anaconda3\\Lib\\site-packages\\pandas\\core\\nanops.py:404\u001b[0m, in \u001b[0;36m_datetimelike_compat.<locals>.new_func\u001b[1;34m(values, axis, skipna, mask, **kwargs)\u001b[0m\n\u001b[0;32m    401\u001b[0m \u001b[38;5;28;01mif\u001b[39;00m datetimelike \u001b[38;5;129;01mand\u001b[39;00m mask \u001b[38;5;129;01mis\u001b[39;00m \u001b[38;5;28;01mNone\u001b[39;00m:\n\u001b[0;32m    402\u001b[0m     mask \u001b[38;5;241m=\u001b[39m isna(values)\n\u001b[1;32m--> 404\u001b[0m result \u001b[38;5;241m=\u001b[39m func(values, axis\u001b[38;5;241m=\u001b[39maxis, skipna\u001b[38;5;241m=\u001b[39mskipna, mask\u001b[38;5;241m=\u001b[39mmask, \u001b[38;5;241m*\u001b[39m\u001b[38;5;241m*\u001b[39mkwargs)\n\u001b[0;32m    406\u001b[0m \u001b[38;5;28;01mif\u001b[39;00m datetimelike:\n\u001b[0;32m    407\u001b[0m     result \u001b[38;5;241m=\u001b[39m _wrap_results(result, orig_values\u001b[38;5;241m.\u001b[39mdtype, fill_value\u001b[38;5;241m=\u001b[39miNaT)\n",
      "File \u001b[1;32mC:\\ProgramData\\anaconda3\\Lib\\site-packages\\pandas\\core\\nanops.py:719\u001b[0m, in \u001b[0;36mnanmean\u001b[1;34m(values, axis, skipna, mask)\u001b[0m\n\u001b[0;32m    716\u001b[0m     dtype_count \u001b[38;5;241m=\u001b[39m dtype\n\u001b[0;32m    718\u001b[0m count \u001b[38;5;241m=\u001b[39m _get_counts(values\u001b[38;5;241m.\u001b[39mshape, mask, axis, dtype\u001b[38;5;241m=\u001b[39mdtype_count)\n\u001b[1;32m--> 719\u001b[0m the_sum \u001b[38;5;241m=\u001b[39m values\u001b[38;5;241m.\u001b[39msum(axis, dtype\u001b[38;5;241m=\u001b[39mdtype_sum)\n\u001b[0;32m    720\u001b[0m the_sum \u001b[38;5;241m=\u001b[39m _ensure_numeric(the_sum)\n\u001b[0;32m    722\u001b[0m \u001b[38;5;28;01mif\u001b[39;00m axis \u001b[38;5;129;01mis\u001b[39;00m \u001b[38;5;129;01mnot\u001b[39;00m \u001b[38;5;28;01mNone\u001b[39;00m \u001b[38;5;129;01mand\u001b[39;00m \u001b[38;5;28mgetattr\u001b[39m(the_sum, \u001b[38;5;124m\"\u001b[39m\u001b[38;5;124mndim\u001b[39m\u001b[38;5;124m\"\u001b[39m, \u001b[38;5;28;01mFalse\u001b[39;00m):\n",
      "File \u001b[1;32mC:\\ProgramData\\anaconda3\\Lib\\site-packages\\numpy\\core\\_methods.py:49\u001b[0m, in \u001b[0;36m_sum\u001b[1;34m(a, axis, dtype, out, keepdims, initial, where)\u001b[0m\n\u001b[0;32m     47\u001b[0m \u001b[38;5;28;01mdef\u001b[39;00m \u001b[38;5;21m_sum\u001b[39m(a, axis\u001b[38;5;241m=\u001b[39m\u001b[38;5;28;01mNone\u001b[39;00m, dtype\u001b[38;5;241m=\u001b[39m\u001b[38;5;28;01mNone\u001b[39;00m, out\u001b[38;5;241m=\u001b[39m\u001b[38;5;28;01mNone\u001b[39;00m, keepdims\u001b[38;5;241m=\u001b[39m\u001b[38;5;28;01mFalse\u001b[39;00m,\n\u001b[0;32m     48\u001b[0m          initial\u001b[38;5;241m=\u001b[39m_NoValue, where\u001b[38;5;241m=\u001b[39m\u001b[38;5;28;01mTrue\u001b[39;00m):\n\u001b[1;32m---> 49\u001b[0m     \u001b[38;5;28;01mreturn\u001b[39;00m umr_sum(a, axis, dtype, out, keepdims, initial, where)\n",
      "\u001b[1;31mTypeError\u001b[0m: unsupported operand type(s) for +: 'int' and 'str'"
     ]
    }
   ],
   "source": [
    "# Verificar valores faltantes\n",
    "print(data.isnull().sum())\n",
    "\n",
    "#Eliminar filas con vvallores faltantes\n",
    "\n",
    "data.fillna(data.mean(), inplace=True)"
   ]
  },
  {
   "cell_type": "markdown",
   "id": "e73c15ff-156e-4ce2-b2f1-5db35f68a570",
   "metadata": {},
   "source": [
    "#### 3. Seleccionar las características más relevantes para entrenar el modelo utilizando selección de características."
   ]
  },
  {
   "cell_type": "code",
   "execution_count": 35,
   "id": "ce017fa8-43f7-4839-8f2d-faf6837304ba",
   "metadata": {},
   "outputs": [],
   "source": [
    "predictors_col = ['Parch', 'SibSp']\n",
    "target_col = ['Fare']"
   ]
  },
  {
   "cell_type": "code",
   "execution_count": 37,
   "id": "2eba134e-e5fe-43b4-8d40-74d0cd9c8ed4",
   "metadata": {},
   "outputs": [],
   "source": [
    "X = data[predictors_col]\n",
    "y = data[target_col]"
   ]
  },
  {
   "cell_type": "code",
   "execution_count": 39,
   "id": "8e0f1cda-882c-47ad-b605-bb321d9fa57e",
   "metadata": {},
   "outputs": [
    {
     "data": {
      "text/html": [
       "<div>\n",
       "<style scoped>\n",
       "    .dataframe tbody tr th:only-of-type {\n",
       "        vertical-align: middle;\n",
       "    }\n",
       "\n",
       "    .dataframe tbody tr th {\n",
       "        vertical-align: top;\n",
       "    }\n",
       "\n",
       "    .dataframe thead th {\n",
       "        text-align: right;\n",
       "    }\n",
       "</style>\n",
       "<table border=\"1\" class=\"dataframe\">\n",
       "  <thead>\n",
       "    <tr style=\"text-align: right;\">\n",
       "      <th></th>\n",
       "      <th>Parch</th>\n",
       "      <th>SibSp</th>\n",
       "    </tr>\n",
       "    <tr>\n",
       "      <th>PassengerId</th>\n",
       "      <th></th>\n",
       "      <th></th>\n",
       "    </tr>\n",
       "  </thead>\n",
       "  <tbody>\n",
       "    <tr>\n",
       "      <th>1</th>\n",
       "      <td>0</td>\n",
       "      <td>1</td>\n",
       "    </tr>\n",
       "    <tr>\n",
       "      <th>2</th>\n",
       "      <td>0</td>\n",
       "      <td>1</td>\n",
       "    </tr>\n",
       "    <tr>\n",
       "      <th>3</th>\n",
       "      <td>0</td>\n",
       "      <td>0</td>\n",
       "    </tr>\n",
       "    <tr>\n",
       "      <th>4</th>\n",
       "      <td>0</td>\n",
       "      <td>1</td>\n",
       "    </tr>\n",
       "    <tr>\n",
       "      <th>5</th>\n",
       "      <td>0</td>\n",
       "      <td>0</td>\n",
       "    </tr>\n",
       "    <tr>\n",
       "      <th>...</th>\n",
       "      <td>...</td>\n",
       "      <td>...</td>\n",
       "    </tr>\n",
       "    <tr>\n",
       "      <th>887</th>\n",
       "      <td>0</td>\n",
       "      <td>0</td>\n",
       "    </tr>\n",
       "    <tr>\n",
       "      <th>888</th>\n",
       "      <td>0</td>\n",
       "      <td>0</td>\n",
       "    </tr>\n",
       "    <tr>\n",
       "      <th>889</th>\n",
       "      <td>2</td>\n",
       "      <td>1</td>\n",
       "    </tr>\n",
       "    <tr>\n",
       "      <th>890</th>\n",
       "      <td>0</td>\n",
       "      <td>0</td>\n",
       "    </tr>\n",
       "    <tr>\n",
       "      <th>891</th>\n",
       "      <td>0</td>\n",
       "      <td>0</td>\n",
       "    </tr>\n",
       "  </tbody>\n",
       "</table>\n",
       "<p>891 rows × 2 columns</p>\n",
       "</div>"
      ],
      "text/plain": [
       "             Parch  SibSp\n",
       "PassengerId              \n",
       "1                0      1\n",
       "2                0      1\n",
       "3                0      0\n",
       "4                0      1\n",
       "5                0      0\n",
       "...            ...    ...\n",
       "887              0      0\n",
       "888              0      0\n",
       "889              2      1\n",
       "890              0      0\n",
       "891              0      0\n",
       "\n",
       "[891 rows x 2 columns]"
      ]
     },
     "execution_count": 39,
     "metadata": {},
     "output_type": "execute_result"
    }
   ],
   "source": [
    "X"
   ]
  },
  {
   "cell_type": "code",
   "execution_count": 41,
   "id": "8a339cb3-5a74-4220-8aba-eb495fdeeed0",
   "metadata": {},
   "outputs": [
    {
     "data": {
      "text/html": [
       "<div>\n",
       "<style scoped>\n",
       "    .dataframe tbody tr th:only-of-type {\n",
       "        vertical-align: middle;\n",
       "    }\n",
       "\n",
       "    .dataframe tbody tr th {\n",
       "        vertical-align: top;\n",
       "    }\n",
       "\n",
       "    .dataframe thead th {\n",
       "        text-align: right;\n",
       "    }\n",
       "</style>\n",
       "<table border=\"1\" class=\"dataframe\">\n",
       "  <thead>\n",
       "    <tr style=\"text-align: right;\">\n",
       "      <th></th>\n",
       "      <th>Fare</th>\n",
       "    </tr>\n",
       "    <tr>\n",
       "      <th>PassengerId</th>\n",
       "      <th></th>\n",
       "    </tr>\n",
       "  </thead>\n",
       "  <tbody>\n",
       "    <tr>\n",
       "      <th>1</th>\n",
       "      <td>7.2500</td>\n",
       "    </tr>\n",
       "    <tr>\n",
       "      <th>2</th>\n",
       "      <td>71.2833</td>\n",
       "    </tr>\n",
       "    <tr>\n",
       "      <th>3</th>\n",
       "      <td>7.9250</td>\n",
       "    </tr>\n",
       "    <tr>\n",
       "      <th>4</th>\n",
       "      <td>53.1000</td>\n",
       "    </tr>\n",
       "    <tr>\n",
       "      <th>5</th>\n",
       "      <td>8.0500</td>\n",
       "    </tr>\n",
       "    <tr>\n",
       "      <th>...</th>\n",
       "      <td>...</td>\n",
       "    </tr>\n",
       "    <tr>\n",
       "      <th>887</th>\n",
       "      <td>13.0000</td>\n",
       "    </tr>\n",
       "    <tr>\n",
       "      <th>888</th>\n",
       "      <td>30.0000</td>\n",
       "    </tr>\n",
       "    <tr>\n",
       "      <th>889</th>\n",
       "      <td>23.4500</td>\n",
       "    </tr>\n",
       "    <tr>\n",
       "      <th>890</th>\n",
       "      <td>30.0000</td>\n",
       "    </tr>\n",
       "    <tr>\n",
       "      <th>891</th>\n",
       "      <td>7.7500</td>\n",
       "    </tr>\n",
       "  </tbody>\n",
       "</table>\n",
       "<p>891 rows × 1 columns</p>\n",
       "</div>"
      ],
      "text/plain": [
       "                Fare\n",
       "PassengerId         \n",
       "1             7.2500\n",
       "2            71.2833\n",
       "3             7.9250\n",
       "4            53.1000\n",
       "5             8.0500\n",
       "...              ...\n",
       "887          13.0000\n",
       "888          30.0000\n",
       "889          23.4500\n",
       "890          30.0000\n",
       "891           7.7500\n",
       "\n",
       "[891 rows x 1 columns]"
      ]
     },
     "execution_count": 41,
     "metadata": {},
     "output_type": "execute_result"
    }
   ],
   "source": [
    "y"
   ]
  },
  {
   "cell_type": "code",
   "execution_count": 43,
   "id": "4560e01d-2607-4676-9ec2-9a33eecf03d2",
   "metadata": {},
   "outputs": [
    {
     "data": {
      "text/html": [
       "<div>\n",
       "<style scoped>\n",
       "    .dataframe tbody tr th:only-of-type {\n",
       "        vertical-align: middle;\n",
       "    }\n",
       "\n",
       "    .dataframe tbody tr th {\n",
       "        vertical-align: top;\n",
       "    }\n",
       "\n",
       "    .dataframe thead th {\n",
       "        text-align: right;\n",
       "    }\n",
       "</style>\n",
       "<table border=\"1\" class=\"dataframe\">\n",
       "  <thead>\n",
       "    <tr style=\"text-align: right;\">\n",
       "      <th></th>\n",
       "      <th>Parch</th>\n",
       "      <th>SibSp</th>\n",
       "    </tr>\n",
       "  </thead>\n",
       "  <tbody>\n",
       "    <tr>\n",
       "      <th>Parch</th>\n",
       "      <td>1.000000</td>\n",
       "      <td>0.414838</td>\n",
       "    </tr>\n",
       "    <tr>\n",
       "      <th>SibSp</th>\n",
       "      <td>0.414838</td>\n",
       "      <td>1.000000</td>\n",
       "    </tr>\n",
       "  </tbody>\n",
       "</table>\n",
       "</div>"
      ],
      "text/plain": [
       "          Parch     SibSp\n",
       "Parch  1.000000  0.414838\n",
       "SibSp  0.414838  1.000000"
      ]
     },
     "execution_count": 43,
     "metadata": {},
     "output_type": "execute_result"
    }
   ],
   "source": [
    "corr = X.corr()\n",
    "corr"
   ]
  },
  {
   "cell_type": "code",
   "execution_count": 45,
   "id": "2e4dbe41-8844-4fb6-89d5-d154ffe27939",
   "metadata": {},
   "outputs": [
    {
     "data": {
      "image/png": "[encoded data removed]",
      "text/plain": [
       "<Figure size 640x480 with 2 Axes>"
      ]
     },
     "metadata": {},
     "output_type": "display_data"
    }
   ],
   "source": [
    "sns.heatmap(corr)\n",
    "plt.title('Matriz de Correlación')\n",
    "plt.show()"
   ]
  },
  {
   "cell_type": "markdown",
   "id": "b5e75a6a-9436-4f40-b1d2-6c3ba46b96eb",
   "metadata": {},
   "source": [
    "#### 4. Dividir el dataset en Train y Test para evaluar correctamente el modelo"
   ]
  },
  {
   "cell_type": "code",
   "execution_count": 48,
   "id": "4305fb7f-32a5-4eab-a077-a740240041eb",
   "metadata": {},
   "outputs": [],
   "source": [
    "from sklearn import metrics\n",
    "from sklearn.model_selection import train_test_split"
   ]
  },
  {
   "cell_type": "code",
   "execution_count": 60,
   "id": "dbd57b20-e305-4c31-a161-7b1809677332",
   "metadata": {},
   "outputs": [],
   "source": [
    "# Dividir los  datos en un conjunto\n",
    "X_train, X_test, y_train, y_test = train_test_split(X, y, test_size=0.30)"
   ]
  },
  {
   "cell_type": "code",
   "execution_count": 52,
   "id": "6d9209f8-d922-48f2-a792-bdd73d48a1c8",
   "metadata": {},
   "outputs": [
    {
     "name": "stdout",
     "output_type": "stream",
     "text": [
      "(623, 2) (268, 2) (623, 1) (268, 1)\n"
     ]
    }
   ],
   "source": [
    "print(X_train.shape, X_test.shape, y_train.shape, y_test.shape)"
   ]
  },
  {
   "cell_type": "code",
   "execution_count": 62,
   "id": "c0482c2f-a533-42d9-b119-a2c6a098499a",
   "metadata": {},
   "outputs": [
    {
     "data": {
      "text/html": [
       "<div>\n",
       "<style scoped>\n",
       "    .dataframe tbody tr th:only-of-type {\n",
       "        vertical-align: middle;\n",
       "    }\n",
       "\n",
       "    .dataframe tbody tr th {\n",
       "        vertical-align: top;\n",
       "    }\n",
       "\n",
       "    .dataframe thead th {\n",
       "        text-align: right;\n",
       "    }\n",
       "</style>\n",
       "<table border=\"1\" class=\"dataframe\">\n",
       "  <thead>\n",
       "    <tr style=\"text-align: right;\">\n",
       "      <th></th>\n",
       "      <th>Parch</th>\n",
       "      <th>SibSp</th>\n",
       "    </tr>\n",
       "    <tr>\n",
       "      <th>PassengerId</th>\n",
       "      <th></th>\n",
       "      <th></th>\n",
       "    </tr>\n",
       "  </thead>\n",
       "  <tbody>\n",
       "    <tr>\n",
       "      <th>442</th>\n",
       "      <td>0</td>\n",
       "      <td>0</td>\n",
       "    </tr>\n",
       "    <tr>\n",
       "      <th>294</th>\n",
       "      <td>0</td>\n",
       "      <td>0</td>\n",
       "    </tr>\n",
       "  </tbody>\n",
       "</table>\n",
       "</div>"
      ],
      "text/plain": [
       "             Parch  SibSp\n",
       "PassengerId              \n",
       "442              0      0\n",
       "294              0      0"
      ]
     },
     "execution_count": 62,
     "metadata": {},
     "output_type": "execute_result"
    }
   ],
   "source": [
    "X_train.head(2)"
   ]
  },
  {
   "cell_type": "code",
   "execution_count": 64,
   "id": "c24931a5-6b15-4407-9e63-9c5a1feba315",
   "metadata": {},
   "outputs": [
    {
     "data": {
      "text/html": [
       "<div>\n",
       "<style scoped>\n",
       "    .dataframe tbody tr th:only-of-type {\n",
       "        vertical-align: middle;\n",
       "    }\n",
       "\n",
       "    .dataframe tbody tr th {\n",
       "        vertical-align: top;\n",
       "    }\n",
       "\n",
       "    .dataframe thead th {\n",
       "        text-align: right;\n",
       "    }\n",
       "</style>\n",
       "<table border=\"1\" class=\"dataframe\">\n",
       "  <thead>\n",
       "    <tr style=\"text-align: right;\">\n",
       "      <th></th>\n",
       "      <th>Parch</th>\n",
       "      <th>SibSp</th>\n",
       "    </tr>\n",
       "    <tr>\n",
       "      <th>PassengerId</th>\n",
       "      <th></th>\n",
       "      <th></th>\n",
       "    </tr>\n",
       "  </thead>\n",
       "  <tbody>\n",
       "    <tr>\n",
       "      <th>497</th>\n",
       "      <td>0</td>\n",
       "      <td>1</td>\n",
       "    </tr>\n",
       "    <tr>\n",
       "      <th>844</th>\n",
       "      <td>0</td>\n",
       "      <td>0</td>\n",
       "    </tr>\n",
       "  </tbody>\n",
       "</table>\n",
       "</div>"
      ],
      "text/plain": [
       "             Parch  SibSp\n",
       "PassengerId              \n",
       "497              0      1\n",
       "844              0      0"
      ]
     },
     "execution_count": 64,
     "metadata": {},
     "output_type": "execute_result"
    }
   ],
   "source": [
    "X_test.head(2)"
   ]
  },
  {
   "cell_type": "markdown",
   "id": "7ea35b2c-f439-4823-abcb-00f09ba6c620",
   "metadata": {},
   "source": [
    "#### 5. Entrenar el modelo configurando los diferentes hiperparámetros."
   ]
  },
  {
   "cell_type": "code",
   "execution_count": 67,
   "id": "7915ecb8-70b4-4b6c-b8e5-f9b1ef84bdeb",
   "metadata": {},
   "outputs": [],
   "source": [
    "from sklearn.tree import DecisionTreeRegressor\n",
    "from sklearn import tree"
   ]
  },
  {
   "cell_type": "code",
   "execution_count": 69,
   "id": "49a8287d-598a-460c-b91f-1af14e213197",
   "metadata": {},
   "outputs": [],
   "source": [
    "tree_dt = DecisionTreeRegressor().fit(X_train, y_train)"
   ]
  },
  {
   "cell_type": "code",
   "execution_count": 145,
   "id": "3f6af929-01f0-4837-8154-b7a82cd145fc",
   "metadata": {},
   "outputs": [
    {
     "data": {
      "text/plain": [
       "[Text(0.33639705882352944, 0.9375, 'x[1] <= 0.5\\nsquared_error = 2054.345\\nsamples = 623\\nvalue = 31.349'),\n",
       " Text(0.08823529411764706, 0.8125, 'x[0] <= 0.5\\nsquared_error = 1814.638\\nsamples = 432\\nvalue = 24.483'),\n",
       " Text(0.058823529411764705, 0.6875, 'squared_error = 1568.062\\nsamples = 379\\nvalue = 21.383'),\n",
       " Text(0.11764705882352941, 0.6875, 'x[0] <= 2.5\\nsquared_error = 3017.694\\nsamples = 53\\nvalue = 46.653'),\n",
       " Text(0.058823529411764705, 0.5625, 'x[0] <= 1.5\\nsquared_error = 3175.555\\nsamples = 50\\nvalue = 47.69'),\n",
       " Text(0.029411764705882353, 0.4375, 'squared_error = 3523.857\\nsamples = 27\\nvalue = 48.984'),\n",
       " Text(0.08823529411764706, 0.4375, 'squared_error = 2762.406\\nsamples = 23\\nvalue = 46.171'),\n",
       " Text(0.17647058823529413, 0.5625, 'x[0] <= 4.0\\nsquared_error = 69.586\\nsamples = 3\\nvalue = 29.357'),\n",
       " Text(0.14705882352941177, 0.4375, 'squared_error = 0.0\\nsamples = 1\\nvalue = 19.258'),\n",
       " Text(0.20588235294117646, 0.4375, 'squared_error = 27.892\\nsamples = 2\\nvalue = 34.406'),\n",
       " Text(0.5845588235294118, 0.8125, 'x[0] <= 1.5\\nsquared_error = 2248.724\\nsamples = 191\\nvalue = 46.879'),\n",
       " Text(0.35294117647058826, 0.6875, 'x[0] <= 0.5\\nsquared_error = 1386.363\\nsamples = 148\\nvalue = 41.514'),\n",
       " Text(0.29411764705882354, 0.5625, 'x[1] <= 2.5\\nsquared_error = 1521.994\\nsamples = 100\\nvalue = 44.141'),\n",
       " Text(0.2647058823529412, 0.4375, 'x[1] <= 1.5\\nsquared_error = 1529.201\\nsamples = 99\\nvalue = 44.427'),\n",
       " Text(0.23529411764705882, 0.3125, 'squared_error = 1518.194\\nsamples = 88\\nvalue = 44.276'),\n",
       " Text(0.29411764705882354, 0.3125, 'squared_error = 1615.612\\nsamples = 11\\nvalue = 45.636'),\n",
       " Text(0.3235294117647059, 0.4375, 'squared_error = 0.0\\nsamples = 1\\nvalue = 15.85'),\n",
       " Text(0.4117647058823529, 0.5625, 'x[1] <= 1.5\\nsquared_error = 1059.453\\nsamples = 48\\nvalue = 36.04'),\n",
       " Text(0.38235294117647056, 0.4375, 'squared_error = 1380.282\\nsamples = 35\\nvalue = 39.572'),\n",
       " Text(0.4411764705882353, 0.4375, 'x[1] <= 3.5\\nsquared_error = 71.691\\nsamples = 13\\nvalue = 26.531'),\n",
       " Text(0.4117647058823529, 0.3125, 'x[1] <= 2.5\\nsquared_error = 51.346\\nsamples = 9\\nvalue = 23.031'),\n",
       " Text(0.38235294117647056, 0.1875, 'squared_error = 74.169\\nsamples = 6\\nvalue = 22.546'),\n",
       " Text(0.4411764705882353, 0.1875, 'squared_error = 4.286\\nsamples = 3\\nvalue = 24.003'),\n",
       " Text(0.47058823529411764, 0.3125, 'squared_error = 27.892\\nsamples = 4\\nvalue = 34.406'),\n",
       " Text(0.8161764705882353, 0.6875, 'x[1] <= 3.5\\nsquared_error = 4776.817\\nsamples = 43\\nvalue = 65.344'),\n",
       " Text(0.6911764705882353, 0.5625, 'x[1] <= 1.5\\nsquared_error = 7038.818\\nsamples = 27\\nvalue = 76.987'),\n",
       " Text(0.5882352941176471, 0.4375, 'x[0] <= 4.5\\nsquared_error = 3784.472\\nsamples = 18\\nvalue = 62.565'),\n",
       " Text(0.5294117647058824, 0.3125, 'x[0] <= 3.5\\nsquared_error = 4577.835\\nsamples = 14\\nvalue = 70.381'),\n",
       " Text(0.5, 0.1875, 'x[0] <= 2.5\\nsquared_error = 2029.517\\nsamples = 11\\nvalue = 60.594'),\n",
       " Text(0.47058823529411764, 0.0625, 'squared_error = 2077.006\\nsamples = 10\\nvalue = 64.353'),\n",
       " Text(0.5294117647058824, 0.0625, 'squared_error = 0.0\\nsamples = 1\\nvalue = 23.0'),\n",
       " Text(0.5588235294117647, 0.1875, 'squared_error = 12282.669\\nsamples = 3\\nvalue = 106.267'),\n",
       " Text(0.6470588235294118, 0.3125, 'x[0] <= 5.5\\nsquared_error = 45.559\\nsamples = 4\\nvalue = 35.209'),\n",
       " Text(0.6176470588235294, 0.1875, 'squared_error = 0.003\\nsamples = 3\\nvalue = 31.312'),\n",
       " Text(0.6764705882352942, 0.1875, 'squared_error = 0.0\\nsamples = 1\\nvalue = 46.9'),\n",
       " Text(0.7941176470588235, 0.4375, 'x[1] <= 2.5\\nsquared_error = 12299.574\\nsamples = 9\\nvalue = 105.831'),\n",
       " Text(0.7647058823529411, 0.3125, 'x[0] <= 2.5\\nsquared_error = 13932.401\\nsamples = 4\\nvalue = 144.469'),\n",
       " Text(0.7352941176470589, 0.1875, 'squared_error = 11552.0\\nsamples = 3\\nvalue = 186.375'),\n",
       " Text(0.7941176470588235, 0.1875, 'squared_error = 0.0\\nsamples = 1\\nvalue = 18.75'),\n",
       " Text(0.8235294117647058, 0.3125, 'squared_error = 8843.522\\nsamples = 5\\nvalue = 74.92'),\n",
       " Text(0.9411764705882353, 0.5625, 'x[1] <= 6.5\\nsquared_error = 344.928\\nsamples = 16\\nvalue = 45.697'),\n",
       " Text(0.9117647058823529, 0.4375, 'x[1] <= 4.5\\nsquared_error = 125.533\\nsamples = 11\\nvalue = 34.855'),\n",
       " Text(0.8823529411764706, 0.3125, 'squared_error = 66.979\\nsamples = 7\\nvalue = 27.971'),\n",
       " Text(0.9411764705882353, 0.3125, 'squared_error = 0.0\\nsamples = 4\\nvalue = 46.9'),\n",
       " Text(0.9705882352941176, 0.4375, 'squared_error = 0.0\\nsamples = 5\\nvalue = 69.55')]"
      ]
     },
     "execution_count": 145,
     "metadata": {},
     "output_type": "execute_result"
    },
    {
     "data": {
      "image/png": "[encoded data removed]",
      "text/plain": [
       "<Figure size 640x480 with 1 Axes>"
      ]
     },
     "metadata": {},
     "output_type": "display_data"
    }
   ],
   "source": [
    "plot_tree(tree_dt)"
   ]
  },
  {
   "cell_type": "markdown",
   "id": "8652dc50-ffb1-4f67-885f-db9fb4ad54e8",
   "metadata": {},
   "source": [
    "#### 6. Evaluar el desempeño del modelo en el conjunto de Test con métricas como precisión, recall, F1-score, etc."
   ]
  },
  {
   "cell_type": "code",
   "execution_count": 72,
   "id": "a8722e77-9b19-4545-b249-31db22ded6c9",
   "metadata": {},
   "outputs": [],
   "source": [
    "# Evaluar mmodelo\n",
    "predicciones = tree_dt.predict(X_test)"
   ]
  },
  {
   "cell_type": "code",
   "execution_count": 74,
   "id": "f41c483f-0753-4958-b42a-df99027ace58",
   "metadata": {},
   "outputs": [
    {
     "data": {
      "text/plain": [
       "array([ 42.37996076,  22.07451743, 186.375     ,  22.07451743,\n",
       "        22.07451743,  42.37996076,  22.07451743,  42.37996076,\n",
       "        22.07451743,  22.07451743,  22.07451743,  22.07451743,\n",
       "        22.07451743,  22.07451743,  42.37996076,  42.37996076,\n",
       "        22.07451743,  22.07451743,  22.07451743,  22.07451743,\n",
       "        82.17756923,  42.37996076,  82.17756923,  42.5928    ,\n",
       "        22.07451743,  22.07451743,  32.84011395,  32.84011395,\n",
       "        22.07451743,  22.07451743,  22.07451743,  42.37996076,\n",
       "        22.07451743,  82.17756923,  22.07451743,  22.07451743,\n",
       "        22.07451743,  22.07451743,  22.07451743,  22.07451743,\n",
       "        22.07451743,  22.07451743,  32.84011395,  22.07451743,\n",
       "        42.37996076,  22.07451743,  42.37996076,  42.37996076,\n",
       "        22.07451743,  22.07451743,  22.07451743,  71.55486667,\n",
       "        42.37996076,  49.86720435,  27.40208333,  22.07451743,\n",
       "        42.37996076,  22.07451743,  22.07451743,  22.07451743,\n",
       "        22.07451743,  36.66964286,  22.07451743,  22.07451743,\n",
       "        42.37996076,  32.84011395,  22.07451743,  22.07451743,\n",
       "        71.55486667,  42.37996076,  22.07451743,  22.07451743,\n",
       "        22.07451743,  42.37996076,  42.37996076,  22.07451743,\n",
       "        22.07451743,  22.07451743,  22.07451743,  42.37996076,\n",
       "        22.07451743,  22.07451743,  22.07451743,  22.07451743,\n",
       "        82.17756923,  22.07451743,  22.07451743,  22.07451743,\n",
       "       186.375     ,  22.07451743,  22.07451743,  22.07451743,\n",
       "        22.07451743,  22.07451743,  22.07451743,  42.37996076,\n",
       "        22.07451743,  22.07451743,  22.07451743,  22.07451743,\n",
       "        22.07451743,  22.07451743,  22.07451743,  27.40208333,\n",
       "        22.07451743,  22.07451743,  42.5928    ,  22.07451743,\n",
       "        42.37996076,  22.07451743,  22.07451743,  22.07451743,\n",
       "        22.07451743,  22.07451743,  36.66964286,  22.07451743,\n",
       "        24.58836   ,  22.07451743,  22.07451743,  22.07451743,\n",
       "        42.37996076,  42.37996076,  22.07451743,  32.84011395,\n",
       "        22.07451743,  22.07451743,  22.07451743,  32.84011395,\n",
       "        22.07451743,  22.07451743,  22.07451743,  32.84011395,\n",
       "        22.07451743,  22.07451743,  22.07451743,  22.07451743,\n",
       "        22.07451743,  82.17756923,  22.07451743,  32.84011395,\n",
       "        22.07451743,  42.37996076,  22.07451743,  42.37996076,\n",
       "        42.37996076,  22.07451743,  22.07451743,  42.37996076,\n",
       "        22.07451743,  49.86720435,  22.07451743,  71.55486667,\n",
       "        22.07451743,  22.07451743,  22.07451743,  49.86720435,\n",
       "        22.07451743,  82.17756923,  22.07451743,  22.07451743,\n",
       "        22.07451743,  42.5928    ,  82.17756923,  71.55486667,\n",
       "        22.07451743,  42.37996076,  22.07451743,  22.07451743,\n",
       "        82.17756923,  24.58836   ,  22.07451743,  42.37996076,\n",
       "        42.37996076,  42.37996076,  22.07451743,  22.07451743,\n",
       "        22.07451743,  22.07451743,  49.86720435,  22.07451743,\n",
       "        22.07451743,  32.84011395,  42.37996076,  42.37996076,\n",
       "        22.07451743,  46.9       ,  22.07451743,  22.07451743,\n",
       "        22.07451743,  22.07451743,  22.07451743,  22.07451743,\n",
       "        22.07451743,  22.07451743,  42.37996076,  22.07451743,\n",
       "        32.84011395,  22.07451743,  22.07451743,  31.064575  ,\n",
       "        82.17756923,  22.07451743,  22.07451743,  31.064575  ,\n",
       "        42.5928    ,  22.07451743,  82.17756923,  82.17756923,\n",
       "        32.84011395,  42.37996076,  22.07451743,  32.84011395,\n",
       "        49.86720435,  42.37996076,  22.07451743,  42.37996076,\n",
       "        22.07451743,  28.6875    ,  22.07451743,  22.07451743,\n",
       "        22.07451743,  22.07451743,  22.07451743,  42.37996076,\n",
       "        22.07451743,  22.07451743,  27.9       ,  22.07451743,\n",
       "        22.07451743,  22.07451743,  22.07451743,  27.40208333,\n",
       "        22.07451743,  32.84011395,  71.55486667,  49.86720435,\n",
       "        42.37996076,  22.07451743,  32.84011395,  71.55486667,\n",
       "        22.07451743,  82.17756923,  22.07451743,  42.37996076,\n",
       "        31.275     ,  22.07451743,  22.07451743,  22.07451743,\n",
       "        22.07451743,  42.37996076,  42.5928    ,  42.37996076,\n",
       "        42.37996076,  42.37996076,  22.07451743,  22.07451743,\n",
       "        22.07451743,  42.37996076,  22.07451743,  22.07451743,\n",
       "        22.07451743,  71.55486667,  42.37996076,  31.064575  ,\n",
       "        22.07451743,  22.07451743,  22.07451743,  22.07451743])"
      ]
     },
     "execution_count": 74,
     "metadata": {},
     "output_type": "execute_result"
    }
   ],
   "source": [
    "predicciones"
   ]
  },
  {
   "cell_type": "code",
   "execution_count": 76,
   "id": "6bc86dfa-8c6d-4ba0-aca2-107e1c92f747",
   "metadata": {},
   "outputs": [
    {
     "data": {
      "text/html": [
       "<div>\n",
       "<style scoped>\n",
       "    .dataframe tbody tr th:only-of-type {\n",
       "        vertical-align: middle;\n",
       "    }\n",
       "\n",
       "    .dataframe tbody tr th {\n",
       "        vertical-align: top;\n",
       "    }\n",
       "\n",
       "    .dataframe thead th {\n",
       "        text-align: right;\n",
       "    }\n",
       "</style>\n",
       "<table border=\"1\" class=\"dataframe\">\n",
       "  <thead>\n",
       "    <tr style=\"text-align: right;\">\n",
       "      <th>Predicciones</th>\n",
       "      <th>22.074517</th>\n",
       "      <th>24.588360</th>\n",
       "      <th>27.402083</th>\n",
       "      <th>27.900000</th>\n",
       "      <th>28.687500</th>\n",
       "      <th>31.064575</th>\n",
       "      <th>31.275000</th>\n",
       "      <th>32.840114</th>\n",
       "      <th>36.669643</th>\n",
       "      <th>42.379961</th>\n",
       "      <th>42.592800</th>\n",
       "      <th>46.900000</th>\n",
       "      <th>49.867204</th>\n",
       "      <th>71.554867</th>\n",
       "      <th>82.177569</th>\n",
       "      <th>186.375000</th>\n",
       "    </tr>\n",
       "    <tr>\n",
       "      <th>Actual</th>\n",
       "      <th></th>\n",
       "      <th></th>\n",
       "      <th></th>\n",
       "      <th></th>\n",
       "      <th></th>\n",
       "      <th></th>\n",
       "      <th></th>\n",
       "      <th></th>\n",
       "      <th></th>\n",
       "      <th></th>\n",
       "      <th></th>\n",
       "      <th></th>\n",
       "      <th></th>\n",
       "      <th></th>\n",
       "      <th></th>\n",
       "      <th></th>\n",
       "    </tr>\n",
       "  </thead>\n",
       "  <tbody>\n",
       "    <tr>\n",
       "      <th>0.0000</th>\n",
       "      <td>5</td>\n",
       "      <td>0</td>\n",
       "      <td>0</td>\n",
       "      <td>0</td>\n",
       "      <td>0</td>\n",
       "      <td>0</td>\n",
       "      <td>0</td>\n",
       "      <td>0</td>\n",
       "      <td>0</td>\n",
       "      <td>0</td>\n",
       "      <td>0</td>\n",
       "      <td>0</td>\n",
       "      <td>0</td>\n",
       "      <td>0</td>\n",
       "      <td>0</td>\n",
       "      <td>0</td>\n",
       "    </tr>\n",
       "    <tr>\n",
       "      <th>4.0125</th>\n",
       "      <td>1</td>\n",
       "      <td>0</td>\n",
       "      <td>0</td>\n",
       "      <td>0</td>\n",
       "      <td>0</td>\n",
       "      <td>0</td>\n",
       "      <td>0</td>\n",
       "      <td>0</td>\n",
       "      <td>0</td>\n",
       "      <td>0</td>\n",
       "      <td>0</td>\n",
       "      <td>0</td>\n",
       "      <td>0</td>\n",
       "      <td>0</td>\n",
       "      <td>0</td>\n",
       "      <td>0</td>\n",
       "    </tr>\n",
       "    <tr>\n",
       "      <th>6.2375</th>\n",
       "      <td>1</td>\n",
       "      <td>0</td>\n",
       "      <td>0</td>\n",
       "      <td>0</td>\n",
       "      <td>0</td>\n",
       "      <td>0</td>\n",
       "      <td>0</td>\n",
       "      <td>0</td>\n",
       "      <td>0</td>\n",
       "      <td>0</td>\n",
       "      <td>0</td>\n",
       "      <td>0</td>\n",
       "      <td>0</td>\n",
       "      <td>0</td>\n",
       "      <td>0</td>\n",
       "      <td>0</td>\n",
       "    </tr>\n",
       "    <tr>\n",
       "      <th>6.4375</th>\n",
       "      <td>1</td>\n",
       "      <td>0</td>\n",
       "      <td>0</td>\n",
       "      <td>0</td>\n",
       "      <td>0</td>\n",
       "      <td>0</td>\n",
       "      <td>0</td>\n",
       "      <td>0</td>\n",
       "      <td>0</td>\n",
       "      <td>0</td>\n",
       "      <td>0</td>\n",
       "      <td>0</td>\n",
       "      <td>0</td>\n",
       "      <td>0</td>\n",
       "      <td>0</td>\n",
       "      <td>0</td>\n",
       "    </tr>\n",
       "    <tr>\n",
       "      <th>6.7500</th>\n",
       "      <td>1</td>\n",
       "      <td>0</td>\n",
       "      <td>0</td>\n",
       "      <td>0</td>\n",
       "      <td>0</td>\n",
       "      <td>0</td>\n",
       "      <td>0</td>\n",
       "      <td>0</td>\n",
       "      <td>0</td>\n",
       "      <td>0</td>\n",
       "      <td>0</td>\n",
       "      <td>0</td>\n",
       "      <td>0</td>\n",
       "      <td>0</td>\n",
       "      <td>0</td>\n",
       "      <td>0</td>\n",
       "    </tr>\n",
       "    <tr>\n",
       "      <th>...</th>\n",
       "      <td>...</td>\n",
       "      <td>...</td>\n",
       "      <td>...</td>\n",
       "      <td>...</td>\n",
       "      <td>...</td>\n",
       "      <td>...</td>\n",
       "      <td>...</td>\n",
       "      <td>...</td>\n",
       "      <td>...</td>\n",
       "      <td>...</td>\n",
       "      <td>...</td>\n",
       "      <td>...</td>\n",
       "      <td>...</td>\n",
       "      <td>...</td>\n",
       "      <td>...</td>\n",
       "      <td>...</td>\n",
       "    </tr>\n",
       "    <tr>\n",
       "      <th>153.4625</th>\n",
       "      <td>1</td>\n",
       "      <td>0</td>\n",
       "      <td>0</td>\n",
       "      <td>0</td>\n",
       "      <td>0</td>\n",
       "      <td>0</td>\n",
       "      <td>0</td>\n",
       "      <td>0</td>\n",
       "      <td>0</td>\n",
       "      <td>0</td>\n",
       "      <td>0</td>\n",
       "      <td>0</td>\n",
       "      <td>0</td>\n",
       "      <td>0</td>\n",
       "      <td>1</td>\n",
       "      <td>0</td>\n",
       "    </tr>\n",
       "    <tr>\n",
       "      <th>164.8667</th>\n",
       "      <td>0</td>\n",
       "      <td>0</td>\n",
       "      <td>0</td>\n",
       "      <td>0</td>\n",
       "      <td>0</td>\n",
       "      <td>0</td>\n",
       "      <td>0</td>\n",
       "      <td>1</td>\n",
       "      <td>0</td>\n",
       "      <td>0</td>\n",
       "      <td>0</td>\n",
       "      <td>0</td>\n",
       "      <td>0</td>\n",
       "      <td>0</td>\n",
       "      <td>0</td>\n",
       "      <td>0</td>\n",
       "    </tr>\n",
       "    <tr>\n",
       "      <th>227.5250</th>\n",
       "      <td>1</td>\n",
       "      <td>0</td>\n",
       "      <td>0</td>\n",
       "      <td>0</td>\n",
       "      <td>0</td>\n",
       "      <td>0</td>\n",
       "      <td>0</td>\n",
       "      <td>0</td>\n",
       "      <td>0</td>\n",
       "      <td>0</td>\n",
       "      <td>0</td>\n",
       "      <td>0</td>\n",
       "      <td>0</td>\n",
       "      <td>0</td>\n",
       "      <td>0</td>\n",
       "      <td>0</td>\n",
       "    </tr>\n",
       "    <tr>\n",
       "      <th>247.5208</th>\n",
       "      <td>0</td>\n",
       "      <td>0</td>\n",
       "      <td>0</td>\n",
       "      <td>0</td>\n",
       "      <td>0</td>\n",
       "      <td>0</td>\n",
       "      <td>0</td>\n",
       "      <td>0</td>\n",
       "      <td>0</td>\n",
       "      <td>0</td>\n",
       "      <td>0</td>\n",
       "      <td>0</td>\n",
       "      <td>0</td>\n",
       "      <td>0</td>\n",
       "      <td>1</td>\n",
       "      <td>0</td>\n",
       "    </tr>\n",
       "    <tr>\n",
       "      <th>263.0000</th>\n",
       "      <td>0</td>\n",
       "      <td>0</td>\n",
       "      <td>0</td>\n",
       "      <td>1</td>\n",
       "      <td>0</td>\n",
       "      <td>0</td>\n",
       "      <td>0</td>\n",
       "      <td>0</td>\n",
       "      <td>0</td>\n",
       "      <td>0</td>\n",
       "      <td>0</td>\n",
       "      <td>0</td>\n",
       "      <td>0</td>\n",
       "      <td>0</td>\n",
       "      <td>0</td>\n",
       "      <td>0</td>\n",
       "    </tr>\n",
       "  </tbody>\n",
       "</table>\n",
       "<p>129 rows × 16 columns</p>\n",
       "</div>"
      ],
      "text/plain": [
       "Predicciones  22.074517   24.588360   27.402083   27.900000   28.687500   \\\n",
       "Actual                                                                     \n",
       "0.0000                 5           0           0           0           0   \n",
       "4.0125                 1           0           0           0           0   \n",
       "6.2375                 1           0           0           0           0   \n",
       "6.4375                 1           0           0           0           0   \n",
       "6.7500                 1           0           0           0           0   \n",
       "...                  ...         ...         ...         ...         ...   \n",
       "153.4625               1           0           0           0           0   \n",
       "164.8667               0           0           0           0           0   \n",
       "227.5250               1           0           0           0           0   \n",
       "247.5208               0           0           0           0           0   \n",
       "263.0000               0           0           0           1           0   \n",
       "\n",
       "Predicciones  31.064575   31.275000   32.840114   36.669643   42.379961   \\\n",
       "Actual                                                                     \n",
       "0.0000                 0           0           0           0           0   \n",
       "4.0125                 0           0           0           0           0   \n",
       "6.2375                 0           0           0           0           0   \n",
       "6.4375                 0           0           0           0           0   \n",
       "6.7500                 0           0           0           0           0   \n",
       "...                  ...         ...         ...         ...         ...   \n",
       "153.4625               0           0           0           0           0   \n",
       "164.8667               0           0           1           0           0   \n",
       "227.5250               0           0           0           0           0   \n",
       "247.5208               0           0           0           0           0   \n",
       "263.0000               0           0           0           0           0   \n",
       "\n",
       "Predicciones  42.592800   46.900000   49.867204   71.554867   82.177569   \\\n",
       "Actual                                                                     \n",
       "0.0000                 0           0           0           0           0   \n",
       "4.0125                 0           0           0           0           0   \n",
       "6.2375                 0           0           0           0           0   \n",
       "6.4375                 0           0           0           0           0   \n",
       "6.7500                 0           0           0           0           0   \n",
       "...                  ...         ...         ...         ...         ...   \n",
       "153.4625               0           0           0           0           1   \n",
       "164.8667               0           0           0           0           0   \n",
       "227.5250               0           0           0           0           0   \n",
       "247.5208               0           0           0           0           1   \n",
       "263.0000               0           0           0           0           0   \n",
       "\n",
       "Predicciones  186.375000  \n",
       "Actual                    \n",
       "0.0000                 0  \n",
       "4.0125                 0  \n",
       "6.2375                 0  \n",
       "6.4375                 0  \n",
       "6.7500                 0  \n",
       "...                  ...  \n",
       "153.4625               0  \n",
       "164.8667               0  \n",
       "227.5250               0  \n",
       "247.5208               0  \n",
       "263.0000               0  \n",
       "\n",
       "[129 rows x 16 columns]"
      ]
     },
     "execution_count": 76,
     "metadata": {},
     "output_type": "execute_result"
    }
   ],
   "source": [
    "# Examinamos la matriz de confusión\n",
    "pd.crosstab(np.array([y[0] for y in y_test.values.tolist()]), predicciones, rownames=['Actual'], colnames=['Predicciones'])"
   ]
  },
  {
   "cell_type": "markdown",
   "id": "d5c53edc-eadb-4139-bc83-8a951433a2aa",
   "metadata": {},
   "source": [
    "#### 7. Realizar las diferentes gráficas que permitan visualizar los resultados del modelo."
   ]
  },
  {
   "cell_type": "code",
   "execution_count": 87,
   "id": "11e4f278-5748-4f3e-a85a-b8de42e7fe86",
   "metadata": {},
   "outputs": [
    {
     "data": {
      "text/html": [
       "<div>\n",
       "<style scoped>\n",
       "    .dataframe tbody tr th:only-of-type {\n",
       "        vertical-align: middle;\n",
       "    }\n",
       "\n",
       "    .dataframe tbody tr th {\n",
       "        vertical-align: top;\n",
       "    }\n",
       "\n",
       "    .dataframe thead th {\n",
       "        text-align: right;\n",
       "    }\n",
       "</style>\n",
       "<table border=\"1\" class=\"dataframe\">\n",
       "  <thead>\n",
       "    <tr style=\"text-align: right;\">\n",
       "      <th></th>\n",
       "      <th>Survived</th>\n",
       "      <th>Pclass</th>\n",
       "      <th>Age</th>\n",
       "      <th>SibSp</th>\n",
       "      <th>Parch</th>\n",
       "      <th>Fare</th>\n",
       "    </tr>\n",
       "  </thead>\n",
       "  <tbody>\n",
       "    <tr>\n",
       "      <th>count</th>\n",
       "      <td>891.000000</td>\n",
       "      <td>891.000000</td>\n",
       "      <td>714.000000</td>\n",
       "      <td>891.000000</td>\n",
       "      <td>891.000000</td>\n",
       "      <td>891.000000</td>\n",
       "    </tr>\n",
       "    <tr>\n",
       "      <th>mean</th>\n",
       "      <td>0.383838</td>\n",
       "      <td>2.308642</td>\n",
       "      <td>29.699118</td>\n",
       "      <td>0.523008</td>\n",
       "      <td>0.381594</td>\n",
       "      <td>32.204208</td>\n",
       "    </tr>\n",
       "    <tr>\n",
       "      <th>std</th>\n",
       "      <td>0.486592</td>\n",
       "      <td>0.836071</td>\n",
       "      <td>14.526497</td>\n",
       "      <td>1.102743</td>\n",
       "      <td>0.806057</td>\n",
       "      <td>49.693429</td>\n",
       "    </tr>\n",
       "    <tr>\n",
       "      <th>min</th>\n",
       "      <td>0.000000</td>\n",
       "      <td>1.000000</td>\n",
       "      <td>0.420000</td>\n",
       "      <td>0.000000</td>\n",
       "      <td>0.000000</td>\n",
       "      <td>0.000000</td>\n",
       "    </tr>\n",
       "    <tr>\n",
       "      <th>25%</th>\n",
       "      <td>0.000000</td>\n",
       "      <td>2.000000</td>\n",
       "      <td>20.125000</td>\n",
       "      <td>0.000000</td>\n",
       "      <td>0.000000</td>\n",
       "      <td>7.910400</td>\n",
       "    </tr>\n",
       "    <tr>\n",
       "      <th>50%</th>\n",
       "      <td>0.000000</td>\n",
       "      <td>3.000000</td>\n",
       "      <td>28.000000</td>\n",
       "      <td>0.000000</td>\n",
       "      <td>0.000000</td>\n",
       "      <td>14.454200</td>\n",
       "    </tr>\n",
       "    <tr>\n",
       "      <th>75%</th>\n",
       "      <td>1.000000</td>\n",
       "      <td>3.000000</td>\n",
       "      <td>38.000000</td>\n",
       "      <td>1.000000</td>\n",
       "      <td>0.000000</td>\n",
       "      <td>31.000000</td>\n",
       "    </tr>\n",
       "    <tr>\n",
       "      <th>max</th>\n",
       "      <td>1.000000</td>\n",
       "      <td>3.000000</td>\n",
       "      <td>80.000000</td>\n",
       "      <td>8.000000</td>\n",
       "      <td>6.000000</td>\n",
       "      <td>512.329200</td>\n",
       "    </tr>\n",
       "  </tbody>\n",
       "</table>\n",
       "</div>"
      ],
      "text/plain": [
       "         Survived      Pclass         Age       SibSp       Parch        Fare\n",
       "count  891.000000  891.000000  714.000000  891.000000  891.000000  891.000000\n",
       "mean     0.383838    2.308642   29.699118    0.523008    0.381594   32.204208\n",
       "std      0.486592    0.836071   14.526497    1.102743    0.806057   49.693429\n",
       "min      0.000000    1.000000    0.420000    0.000000    0.000000    0.000000\n",
       "25%      0.000000    2.000000   20.125000    0.000000    0.000000    7.910400\n",
       "50%      0.000000    3.000000   28.000000    0.000000    0.000000   14.454200\n",
       "75%      1.000000    3.000000   38.000000    1.000000    0.000000   31.000000\n",
       "max      1.000000    3.000000   80.000000    8.000000    6.000000  512.329200"
      ]
     },
     "execution_count": 87,
     "metadata": {},
     "output_type": "execute_result"
    }
   ],
   "source": [
    "data.describe()"
   ]
  },
  {
   "cell_type": "code",
   "execution_count": 93,
   "id": "5039a1a7-4f97-44ff-a9b0-1e2db0d7d65e",
   "metadata": {},
   "outputs": [
    {
     "data": {
      "text/plain": [
       "<Axes: xlabel='Pclass', ylabel='SibSp'>"
      ]
     },
     "execution_count": 93,
     "metadata": {},
     "output_type": "execute_result"
    },
    {
     "data": {
      "image/png": "[encoded data removed]",
      "text/plain": [
       "<Figure size 640x480 with 1 Axes>"
      ]
     },
     "metadata": {},
     "output_type": "display_data"
    }
   ],
   "source": [
    "sns.scatterplot(x = \"Pclass\", y = \"SibSp\", size = \"Survived\", data = data)"
   ]
  },
  {
   "cell_type": "code",
   "execution_count": 97,
   "id": "abdd3f92-6ce8-4a51-81a2-8394a5069d7d",
   "metadata": {},
   "outputs": [
    {
     "data": {
      "text/plain": [
       "<Axes: xlabel='Age', ylabel='Parch'>"
      ]
     },
     "execution_count": 97,
     "metadata": {},
     "output_type": "execute_result"
    },
    {
     "data": {
      "image/png": "[encoded data removed]",
      "text/plain": [
       "<Figure size 640x480 with 1 Axes>"
      ]
     },
     "metadata": {},
     "output_type": "display_data"
    }
   ],
   "source": [
    "sns.scatterplot(x = \"Age\", y = \"Parch\", size = \"Survived\", data = data)"
   ]
  },
  {
   "cell_type": "code",
   "execution_count": 99,
   "id": "90f6caa3-edba-4f9d-935c-49c98a9047c9",
   "metadata": {},
   "outputs": [
    {
     "data": {
      "image/png": "[encoded data removed]",
      "text/plain": [
       "<Figure size 900x400 with 1 Axes>"
      ]
     },
     "metadata": {},
     "output_type": "display_data"
    }
   ],
   "source": [
    "plt.figure(figsize=(9, 4))\n",
    "sns.boxplot(data=data[[\"Pclass\", \"SibSp\"]])\n",
    "plt.xticks(rotation=25)\n",
    "plt.title('Boxplot de Pclass y SibSp')\n",
    "plt.ylabel('Valores')\n",
    "plt.show()"
   ]
  },
  {
   "cell_type": "code",
   "execution_count": 103,
   "id": "0c362991-3922-4eb0-b9f0-bca428a13725",
   "metadata": {},
   "outputs": [
    {
     "data": {
      "image/png": "[encoded data removed]",
      "text/plain": [
       "<Figure size 900x400 with 1 Axes>"
      ]
     },
     "metadata": {},
     "output_type": "display_data"
    }
   ],
   "source": [
    "plt.figure(figsize=(9, 4))\n",
    "sns.boxplot(data=data[[\"Parch\", \"Age\"]])\n",
    "plt.xticks(rotation=25)\n",
    "plt.title('Boxplot de Parch y Age')\n",
    "plt.ylabel('Valores')\n",
    "plt.show()"
   ]
  },
  {
   "cell_type": "markdown",
   "id": "46c5bcb1-eb8b-4772-bb2d-68087ae121b2",
   "metadata": {},
   "source": [
    "#### 8. Interpretar, analizar y documentar los resultados obtenidos"
   ]
  },
  {
   "cell_type": "raw",
   "id": "e1192cdb-874d-4ffd-9062-1c9ca6d251cb",
   "metadata": {},
   "source": [
    "•\tVisualizar la distribución de las variables: Histogramas para variables numéricas, gráficos de barras para categóricas.\n",
    "•\tTratamiento de valores faltantes: Imputar valores faltantes (mediante la media, mediana, moda o técnicas más sofisticadas) o eliminar las filas o columnas que contengan muchos valores faltantes.\n",
    "•\tMezclar los datos: Se reorganizan aleatoriamente las filas del dataset para asegurar orden predefinido que pueda influir en la división.\n",
    "•\tOptimización Bayesiana: Utiliza un enfoque basado en probabilidades para explorar el espacio de hiperparámetros de manera más eficiente.\n",
    "•\tDesbalance de clases: Si hay muchas más personas que no sobrevivieron que sobrevivientes, la precisión score 129 columns 8, puede ser engañosa. \n",
    "- Es importante considerar otras métricas como recall y F1-score 8.0."
   ]
  },
  {
   "cell_type": "markdown",
   "id": "ac551fdf-7825-4a7a-8008-2feec1e8ca1a",
   "metadata": {},
   "source": [
    "#### Cargar en GitHub el código del modelo diseñado \n",
    "#### https://github.com/ "
   ]
  },
  {
   "cell_type": "code",
   "execution_count": null,
   "id": "2e60fed0-ab3f-4a9a-9684-3ccf1e4bc2f9",
   "metadata": {},
   "outputs": [],
   "source": []
  }
 ],
 "metadata": {
  "kernelspec": {
   "display_name": "Python 3 (ipykernel)",
   "language": "python",
   "name": "python3"
  },
  "language_info": {
   "codemirror_mode": {
    "name": "ipython",
    "version": 3
   },
   "file_extension": ".py",
   "mimetype": "text/x-python",
   "name": "python",
   "nbconvert_exporter": "python",
   "pygments_lexer": "ipython3",
   "version": "3.12.4"
  }
 },
 "nbformat": 4,
 "nbformat_minor": 5
}
